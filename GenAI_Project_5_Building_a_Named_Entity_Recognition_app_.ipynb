{
  "nbformat": 4,
  "nbformat_minor": 0,
  "metadata": {
    "colab": {
      "provenance": [],
      "gpuType": "T4"
    },
    "kernelspec": {
      "name": "python3",
      "display_name": "Python 3"
    },
    "language_info": {
      "name": "python"
    },
    "accelerator": "GPU"
  },
  "cells": [
    {
      "cell_type": "markdown",
      "source": [
        "Building a Named Entity Recognition app"
      ],
      "metadata": {
        "id": "ZMeZou81yZAh"
      }
    },
    {
      "cell_type": "markdown",
      "source": [
        "* We are using this Inference Endpoint for dslim/bert-base-NER, a 108M parameter fine-tuned BART model on the NER task."
      ],
      "metadata": {
        "id": "wQKPjm2Myddk"
      }
    },
    {
      "cell_type": "code",
      "execution_count": null,
      "metadata": {
        "colab": {
          "base_uri": "https://localhost:8080/"
        },
        "id": "9xNnSEFgySFO",
        "outputId": "bbf1af4a-f9b7-4781-a3d5-65afa25ad20d"
      },
      "outputs": [
        {
          "output_type": "stream",
          "name": "stdout",
          "text": [
            "Requirement already satisfied: transformers in /usr/local/lib/python3.10/dist-packages (4.34.1)\n",
            "Requirement already satisfied: filelock in /usr/local/lib/python3.10/dist-packages (from transformers) (3.12.4)\n",
            "Requirement already satisfied: huggingface-hub<1.0,>=0.16.4 in /usr/local/lib/python3.10/dist-packages (from transformers) (0.17.3)\n",
            "Requirement already satisfied: numpy>=1.17 in /usr/local/lib/python3.10/dist-packages (from transformers) (1.23.5)\n",
            "Requirement already satisfied: packaging>=20.0 in /usr/local/lib/python3.10/dist-packages (from transformers) (23.2)\n",
            "Requirement already satisfied: pyyaml>=5.1 in /usr/local/lib/python3.10/dist-packages (from transformers) (6.0.1)\n",
            "Requirement already satisfied: regex!=2019.12.17 in /usr/local/lib/python3.10/dist-packages (from transformers) (2023.6.3)\n",
            "Requirement already satisfied: requests in /usr/local/lib/python3.10/dist-packages (from transformers) (2.31.0)\n",
            "Requirement already satisfied: tokenizers<0.15,>=0.14 in /usr/local/lib/python3.10/dist-packages (from transformers) (0.14.1)\n",
            "Requirement already satisfied: safetensors>=0.3.1 in /usr/local/lib/python3.10/dist-packages (from transformers) (0.4.0)\n",
            "Requirement already satisfied: tqdm>=4.27 in /usr/local/lib/python3.10/dist-packages (from transformers) (4.66.1)\n",
            "Requirement already satisfied: fsspec in /usr/local/lib/python3.10/dist-packages (from huggingface-hub<1.0,>=0.16.4->transformers) (2023.6.0)\n",
            "Requirement already satisfied: typing-extensions>=3.7.4.3 in /usr/local/lib/python3.10/dist-packages (from huggingface-hub<1.0,>=0.16.4->transformers) (4.8.0)\n",
            "Requirement already satisfied: charset-normalizer<4,>=2 in /usr/local/lib/python3.10/dist-packages (from requests->transformers) (3.3.0)\n",
            "Requirement already satisfied: idna<4,>=2.5 in /usr/local/lib/python3.10/dist-packages (from requests->transformers) (3.4)\n",
            "Requirement already satisfied: urllib3<3,>=1.21.1 in /usr/local/lib/python3.10/dist-packages (from requests->transformers) (2.0.7)\n",
            "Requirement already satisfied: certifi>=2017.4.17 in /usr/local/lib/python3.10/dist-packages (from requests->transformers) (2023.7.22)\n"
          ]
        }
      ],
      "source": [
        "!pip install transformers"
      ]
    },
    {
      "cell_type": "code",
      "source": [
        "from transformers import pipeline"
      ],
      "metadata": {
        "id": "Lu9eroE8ytEZ"
      },
      "execution_count": null,
      "outputs": []
    },
    {
      "cell_type": "code",
      "source": [
        "get_completion = pipeline(\"ner\",model=\"dslim/bert-base-NER\")"
      ],
      "metadata": {
        "colab": {
          "base_uri": "https://localhost:8080/"
        },
        "id": "sHRL0CbQy8PF",
        "outputId": "55b9f426-801a-42a9-a6b7-5e568429f11f"
      },
      "execution_count": null,
      "outputs": [
        {
          "output_type": "stream",
          "name": "stderr",
          "text": [
            "Some weights of the model checkpoint at dslim/bert-base-NER were not used when initializing BertForTokenClassification: ['bert.pooler.dense.weight', 'bert.pooler.dense.bias']\n",
            "- This IS expected if you are initializing BertForTokenClassification from the checkpoint of a model trained on another task or with another architecture (e.g. initializing a BertForSequenceClassification model from a BertForPreTraining model).\n",
            "- This IS NOT expected if you are initializing BertForTokenClassification from the checkpoint of a model that you expect to be exactly identical (initializing a BertForSequenceClassification model from a BertForSequenceClassification model).\n"
          ]
        }
      ]
    },
    {
      "cell_type": "code",
      "source": [
        "text = \"\"\"\n",
        "My Name is Aakash Singh. Graduated from IIT Bombay. My Home Town is Siwan Distric of bihar.\n",
        "I've interest in Data Science and Artificial Intelligence Field.\n",
        "I've been working as an Associate Data Scientist at HDFC Life.\n",
        "\"\"\"\n",
        "get_completion(text)"
      ],
      "metadata": {
        "colab": {
          "base_uri": "https://localhost:8080/"
        },
        "id": "7jEL71HjzLVY",
        "outputId": "4abbc2ec-628d-42fe-b262-700722d35cc5"
      },
      "execution_count": null,
      "outputs": [
        {
          "output_type": "execute_result",
          "data": {
            "text/plain": [
              "[{'entity': 'B-PER',\n",
              "  'score': 0.9996804,\n",
              "  'index': 4,\n",
              "  'word': 'A',\n",
              "  'start': 12,\n",
              "  'end': 13},\n",
              " {'entity': 'B-PER',\n",
              "  'score': 0.9768275,\n",
              "  'index': 5,\n",
              "  'word': '##aka',\n",
              "  'start': 13,\n",
              "  'end': 16},\n",
              " {'entity': 'B-PER',\n",
              "  'score': 0.82130957,\n",
              "  'index': 6,\n",
              "  'word': '##sh',\n",
              "  'start': 16,\n",
              "  'end': 18},\n",
              " {'entity': 'I-PER',\n",
              "  'score': 0.99782157,\n",
              "  'index': 7,\n",
              "  'word': 'Singh',\n",
              "  'start': 19,\n",
              "  'end': 24},\n",
              " {'entity': 'B-ORG',\n",
              "  'score': 0.997965,\n",
              "  'index': 12,\n",
              "  'word': 'II',\n",
              "  'start': 41,\n",
              "  'end': 43},\n",
              " {'entity': 'I-ORG',\n",
              "  'score': 0.98943263,\n",
              "  'index': 13,\n",
              "  'word': '##T',\n",
              "  'start': 43,\n",
              "  'end': 44},\n",
              " {'entity': 'I-ORG',\n",
              "  'score': 0.9976035,\n",
              "  'index': 14,\n",
              "  'word': 'Bombay',\n",
              "  'start': 45,\n",
              "  'end': 51},\n",
              " {'entity': 'I-LOC',\n",
              "  'score': 0.5923326,\n",
              "  'index': 18,\n",
              "  'word': 'Town',\n",
              "  'start': 61,\n",
              "  'end': 65},\n",
              " {'entity': 'B-LOC',\n",
              "  'score': 0.8480379,\n",
              "  'index': 20,\n",
              "  'word': 'Si',\n",
              "  'start': 69,\n",
              "  'end': 71},\n",
              " {'entity': 'I-LOC',\n",
              "  'score': 0.50580174,\n",
              "  'index': 21,\n",
              "  'word': '##wan',\n",
              "  'start': 71,\n",
              "  'end': 74},\n",
              " {'entity': 'I-LOC',\n",
              "  'score': 0.93791556,\n",
              "  'index': 22,\n",
              "  'word': 'Di',\n",
              "  'start': 75,\n",
              "  'end': 77},\n",
              " {'entity': 'I-ORG',\n",
              "  'score': 0.6748996,\n",
              "  'index': 23,\n",
              "  'word': '##st',\n",
              "  'start': 77,\n",
              "  'end': 79},\n",
              " {'entity': 'I-LOC',\n",
              "  'score': 0.6978431,\n",
              "  'index': 24,\n",
              "  'word': '##ric',\n",
              "  'start': 79,\n",
              "  'end': 82},\n",
              " {'entity': 'B-LOC',\n",
              "  'score': 0.86658853,\n",
              "  'index': 26,\n",
              "  'word': 'bi',\n",
              "  'start': 86,\n",
              "  'end': 88},\n",
              " {'entity': 'B-ORG',\n",
              "  'score': 0.95908475,\n",
              "  'index': 34,\n",
              "  'word': 'Data',\n",
              "  'start': 110,\n",
              "  'end': 114},\n",
              " {'entity': 'I-ORG',\n",
              "  'score': 0.9520458,\n",
              "  'index': 35,\n",
              "  'word': 'Science',\n",
              "  'start': 115,\n",
              "  'end': 122},\n",
              " {'entity': 'B-ORG',\n",
              "  'score': 0.88943225,\n",
              "  'index': 37,\n",
              "  'word': 'Art',\n",
              "  'start': 127,\n",
              "  'end': 130},\n",
              " {'entity': 'I-ORG',\n",
              "  'score': 0.98498964,\n",
              "  'index': 38,\n",
              "  'word': '##ific',\n",
              "  'start': 130,\n",
              "  'end': 134},\n",
              " {'entity': 'I-ORG',\n",
              "  'score': 0.9874653,\n",
              "  'index': 39,\n",
              "  'word': '##ial',\n",
              "  'start': 134,\n",
              "  'end': 137},\n",
              " {'entity': 'I-ORG',\n",
              "  'score': 0.99134105,\n",
              "  'index': 40,\n",
              "  'word': 'Intelligence',\n",
              "  'start': 138,\n",
              "  'end': 150},\n",
              " {'entity': 'I-ORG',\n",
              "  'score': 0.9321792,\n",
              "  'index': 41,\n",
              "  'word': 'Field',\n",
              "  'start': 151,\n",
              "  'end': 156},\n",
              " {'entity': 'B-ORG',\n",
              "  'score': 0.99869496,\n",
              "  'index': 54,\n",
              "  'word': 'HD',\n",
              "  'start': 210,\n",
              "  'end': 212},\n",
              " {'entity': 'I-ORG',\n",
              "  'score': 0.9983656,\n",
              "  'index': 55,\n",
              "  'word': '##FC',\n",
              "  'start': 212,\n",
              "  'end': 214},\n",
              " {'entity': 'I-ORG',\n",
              "  'score': 0.9978369,\n",
              "  'index': 56,\n",
              "  'word': 'Life',\n",
              "  'start': 215,\n",
              "  'end': 219}]"
            ]
          },
          "metadata": {},
          "execution_count": 4
        }
      ]
    },
    {
      "cell_type": "code",
      "source": [
        "def ner(input):\n",
        "  output = get_completion(input)\n",
        "  return {'text': input, 'entities': output}"
      ],
      "metadata": {
        "id": "-HkK9n2dzsax"
      },
      "execution_count": null,
      "outputs": []
    },
    {
      "cell_type": "code",
      "source": [
        "ner(text)"
      ],
      "metadata": {
        "colab": {
          "base_uri": "https://localhost:8080/"
        },
        "id": "RCn5FJFS0Phm",
        "outputId": "684368d8-4a3c-43ec-b2fa-98e83120c624"
      },
      "execution_count": null,
      "outputs": [
        {
          "output_type": "execute_result",
          "data": {
            "text/plain": [
              "{'text': \"\\nMy Name is Aakash Singh. Graduated from IIT Bombay. My Home Town is Siwan Distric of bihar.\\nI've interest in Data Science and Artificial Intelligence Field.\\nI've been working as an Associate Data Scientist at HDFC Life.\\n\",\n",
              " 'entities': [{'entity': 'B-PER',\n",
              "   'score': 0.9996804,\n",
              "   'index': 4,\n",
              "   'word': 'A',\n",
              "   'start': 12,\n",
              "   'end': 13},\n",
              "  {'entity': 'B-PER',\n",
              "   'score': 0.9768275,\n",
              "   'index': 5,\n",
              "   'word': '##aka',\n",
              "   'start': 13,\n",
              "   'end': 16},\n",
              "  {'entity': 'B-PER',\n",
              "   'score': 0.82130957,\n",
              "   'index': 6,\n",
              "   'word': '##sh',\n",
              "   'start': 16,\n",
              "   'end': 18},\n",
              "  {'entity': 'I-PER',\n",
              "   'score': 0.99782157,\n",
              "   'index': 7,\n",
              "   'word': 'Singh',\n",
              "   'start': 19,\n",
              "   'end': 24},\n",
              "  {'entity': 'B-ORG',\n",
              "   'score': 0.997965,\n",
              "   'index': 12,\n",
              "   'word': 'II',\n",
              "   'start': 41,\n",
              "   'end': 43},\n",
              "  {'entity': 'I-ORG',\n",
              "   'score': 0.98943263,\n",
              "   'index': 13,\n",
              "   'word': '##T',\n",
              "   'start': 43,\n",
              "   'end': 44},\n",
              "  {'entity': 'I-ORG',\n",
              "   'score': 0.9976035,\n",
              "   'index': 14,\n",
              "   'word': 'Bombay',\n",
              "   'start': 45,\n",
              "   'end': 51},\n",
              "  {'entity': 'I-LOC',\n",
              "   'score': 0.5923326,\n",
              "   'index': 18,\n",
              "   'word': 'Town',\n",
              "   'start': 61,\n",
              "   'end': 65},\n",
              "  {'entity': 'B-LOC',\n",
              "   'score': 0.8480379,\n",
              "   'index': 20,\n",
              "   'word': 'Si',\n",
              "   'start': 69,\n",
              "   'end': 71},\n",
              "  {'entity': 'I-LOC',\n",
              "   'score': 0.50580174,\n",
              "   'index': 21,\n",
              "   'word': '##wan',\n",
              "   'start': 71,\n",
              "   'end': 74},\n",
              "  {'entity': 'I-LOC',\n",
              "   'score': 0.93791556,\n",
              "   'index': 22,\n",
              "   'word': 'Di',\n",
              "   'start': 75,\n",
              "   'end': 77},\n",
              "  {'entity': 'I-ORG',\n",
              "   'score': 0.6748996,\n",
              "   'index': 23,\n",
              "   'word': '##st',\n",
              "   'start': 77,\n",
              "   'end': 79},\n",
              "  {'entity': 'I-LOC',\n",
              "   'score': 0.6978431,\n",
              "   'index': 24,\n",
              "   'word': '##ric',\n",
              "   'start': 79,\n",
              "   'end': 82},\n",
              "  {'entity': 'B-LOC',\n",
              "   'score': 0.86658853,\n",
              "   'index': 26,\n",
              "   'word': 'bi',\n",
              "   'start': 86,\n",
              "   'end': 88},\n",
              "  {'entity': 'B-ORG',\n",
              "   'score': 0.95908475,\n",
              "   'index': 34,\n",
              "   'word': 'Data',\n",
              "   'start': 110,\n",
              "   'end': 114},\n",
              "  {'entity': 'I-ORG',\n",
              "   'score': 0.9520458,\n",
              "   'index': 35,\n",
              "   'word': 'Science',\n",
              "   'start': 115,\n",
              "   'end': 122},\n",
              "  {'entity': 'B-ORG',\n",
              "   'score': 0.88943225,\n",
              "   'index': 37,\n",
              "   'word': 'Art',\n",
              "   'start': 127,\n",
              "   'end': 130},\n",
              "  {'entity': 'I-ORG',\n",
              "   'score': 0.98498964,\n",
              "   'index': 38,\n",
              "   'word': '##ific',\n",
              "   'start': 130,\n",
              "   'end': 134},\n",
              "  {'entity': 'I-ORG',\n",
              "   'score': 0.9874653,\n",
              "   'index': 39,\n",
              "   'word': '##ial',\n",
              "   'start': 134,\n",
              "   'end': 137},\n",
              "  {'entity': 'I-ORG',\n",
              "   'score': 0.99134105,\n",
              "   'index': 40,\n",
              "   'word': 'Intelligence',\n",
              "   'start': 138,\n",
              "   'end': 150},\n",
              "  {'entity': 'I-ORG',\n",
              "   'score': 0.9321792,\n",
              "   'index': 41,\n",
              "   'word': 'Field',\n",
              "   'start': 151,\n",
              "   'end': 156},\n",
              "  {'entity': 'B-ORG',\n",
              "   'score': 0.99869496,\n",
              "   'index': 54,\n",
              "   'word': 'HD',\n",
              "   'start': 210,\n",
              "   'end': 212},\n",
              "  {'entity': 'I-ORG',\n",
              "   'score': 0.9983656,\n",
              "   'index': 55,\n",
              "   'word': '##FC',\n",
              "   'start': 212,\n",
              "   'end': 214},\n",
              "  {'entity': 'I-ORG',\n",
              "   'score': 0.9978369,\n",
              "   'index': 56,\n",
              "   'word': 'Life',\n",
              "   'start': 215,\n",
              "   'end': 219}]}"
            ]
          },
          "metadata": {},
          "execution_count": 6
        }
      ]
    },
    {
      "cell_type": "code",
      "source": [
        "!pip install gradio"
      ],
      "metadata": {
        "colab": {
          "base_uri": "https://localhost:8080/"
        },
        "id": "7HEIz9He0RKI",
        "outputId": "e306d846-c72a-460e-ca64-3455bf393d36"
      },
      "execution_count": null,
      "outputs": [
        {
          "output_type": "stream",
          "name": "stdout",
          "text": [
            "Requirement already satisfied: gradio in /usr/local/lib/python3.10/dist-packages (3.50.2)\n",
            "Requirement already satisfied: aiofiles<24.0,>=22.0 in /usr/local/lib/python3.10/dist-packages (from gradio) (23.2.1)\n",
            "Requirement already satisfied: altair<6.0,>=4.2.0 in /usr/local/lib/python3.10/dist-packages (from gradio) (4.2.2)\n",
            "Requirement already satisfied: fastapi in /usr/local/lib/python3.10/dist-packages (from gradio) (0.104.0)\n",
            "Requirement already satisfied: ffmpy in /usr/local/lib/python3.10/dist-packages (from gradio) (0.3.1)\n",
            "Requirement already satisfied: gradio-client==0.6.1 in /usr/local/lib/python3.10/dist-packages (from gradio) (0.6.1)\n",
            "Requirement already satisfied: httpx in /usr/local/lib/python3.10/dist-packages (from gradio) (0.25.0)\n",
            "Requirement already satisfied: huggingface-hub>=0.14.0 in /usr/local/lib/python3.10/dist-packages (from gradio) (0.17.3)\n",
            "Requirement already satisfied: importlib-resources<7.0,>=1.3 in /usr/local/lib/python3.10/dist-packages (from gradio) (6.1.0)\n",
            "Requirement already satisfied: jinja2<4.0 in /usr/local/lib/python3.10/dist-packages (from gradio) (3.1.2)\n",
            "Requirement already satisfied: markupsafe~=2.0 in /usr/local/lib/python3.10/dist-packages (from gradio) (2.1.3)\n",
            "Requirement already satisfied: matplotlib~=3.0 in /usr/local/lib/python3.10/dist-packages (from gradio) (3.7.1)\n",
            "Requirement already satisfied: numpy~=1.0 in /usr/local/lib/python3.10/dist-packages (from gradio) (1.23.5)\n",
            "Requirement already satisfied: orjson~=3.0 in /usr/local/lib/python3.10/dist-packages (from gradio) (3.9.9)\n",
            "Requirement already satisfied: packaging in /usr/local/lib/python3.10/dist-packages (from gradio) (23.2)\n",
            "Requirement already satisfied: pandas<3.0,>=1.0 in /usr/local/lib/python3.10/dist-packages (from gradio) (1.5.3)\n",
            "Requirement already satisfied: pillow<11.0,>=8.0 in /usr/local/lib/python3.10/dist-packages (from gradio) (9.4.0)\n",
            "Requirement already satisfied: pydantic!=1.8,!=1.8.1,!=2.0.0,!=2.0.1,<3.0.0,>=1.7.4 in /usr/local/lib/python3.10/dist-packages (from gradio) (1.10.13)\n",
            "Requirement already satisfied: pydub in /usr/local/lib/python3.10/dist-packages (from gradio) (0.25.1)\n",
            "Requirement already satisfied: python-multipart in /usr/local/lib/python3.10/dist-packages (from gradio) (0.0.6)\n",
            "Requirement already satisfied: pyyaml<7.0,>=5.0 in /usr/local/lib/python3.10/dist-packages (from gradio) (6.0.1)\n",
            "Requirement already satisfied: requests~=2.0 in /usr/local/lib/python3.10/dist-packages (from gradio) (2.31.0)\n",
            "Requirement already satisfied: semantic-version~=2.0 in /usr/local/lib/python3.10/dist-packages (from gradio) (2.10.0)\n",
            "Requirement already satisfied: typing-extensions~=4.0 in /usr/local/lib/python3.10/dist-packages (from gradio) (4.8.0)\n",
            "Requirement already satisfied: uvicorn>=0.14.0 in /usr/local/lib/python3.10/dist-packages (from gradio) (0.23.2)\n",
            "Requirement already satisfied: websockets<12.0,>=10.0 in /usr/local/lib/python3.10/dist-packages (from gradio) (11.0.3)\n",
            "Requirement already satisfied: fsspec in /usr/local/lib/python3.10/dist-packages (from gradio-client==0.6.1->gradio) (2023.6.0)\n",
            "Requirement already satisfied: entrypoints in /usr/local/lib/python3.10/dist-packages (from altair<6.0,>=4.2.0->gradio) (0.4)\n",
            "Requirement already satisfied: jsonschema>=3.0 in /usr/local/lib/python3.10/dist-packages (from altair<6.0,>=4.2.0->gradio) (4.19.1)\n",
            "Requirement already satisfied: toolz in /usr/local/lib/python3.10/dist-packages (from altair<6.0,>=4.2.0->gradio) (0.12.0)\n",
            "Requirement already satisfied: filelock in /usr/local/lib/python3.10/dist-packages (from huggingface-hub>=0.14.0->gradio) (3.12.4)\n",
            "Requirement already satisfied: tqdm>=4.42.1 in /usr/local/lib/python3.10/dist-packages (from huggingface-hub>=0.14.0->gradio) (4.66.1)\n",
            "Requirement already satisfied: contourpy>=1.0.1 in /usr/local/lib/python3.10/dist-packages (from matplotlib~=3.0->gradio) (1.1.1)\n",
            "Requirement already satisfied: cycler>=0.10 in /usr/local/lib/python3.10/dist-packages (from matplotlib~=3.0->gradio) (0.12.1)\n",
            "Requirement already satisfied: fonttools>=4.22.0 in /usr/local/lib/python3.10/dist-packages (from matplotlib~=3.0->gradio) (4.43.1)\n",
            "Requirement already satisfied: kiwisolver>=1.0.1 in /usr/local/lib/python3.10/dist-packages (from matplotlib~=3.0->gradio) (1.4.5)\n",
            "Requirement already satisfied: pyparsing>=2.3.1 in /usr/local/lib/python3.10/dist-packages (from matplotlib~=3.0->gradio) (3.1.1)\n",
            "Requirement already satisfied: python-dateutil>=2.7 in /usr/local/lib/python3.10/dist-packages (from matplotlib~=3.0->gradio) (2.8.2)\n",
            "Requirement already satisfied: pytz>=2020.1 in /usr/local/lib/python3.10/dist-packages (from pandas<3.0,>=1.0->gradio) (2023.3.post1)\n",
            "Requirement already satisfied: charset-normalizer<4,>=2 in /usr/local/lib/python3.10/dist-packages (from requests~=2.0->gradio) (3.3.0)\n",
            "Requirement already satisfied: idna<4,>=2.5 in /usr/local/lib/python3.10/dist-packages (from requests~=2.0->gradio) (3.4)\n",
            "Requirement already satisfied: urllib3<3,>=1.21.1 in /usr/local/lib/python3.10/dist-packages (from requests~=2.0->gradio) (2.0.7)\n",
            "Requirement already satisfied: certifi>=2017.4.17 in /usr/local/lib/python3.10/dist-packages (from requests~=2.0->gradio) (2023.7.22)\n",
            "Requirement already satisfied: click>=7.0 in /usr/local/lib/python3.10/dist-packages (from uvicorn>=0.14.0->gradio) (8.1.7)\n",
            "Requirement already satisfied: h11>=0.8 in /usr/local/lib/python3.10/dist-packages (from uvicorn>=0.14.0->gradio) (0.14.0)\n",
            "Requirement already satisfied: anyio<4.0.0,>=3.7.1 in /usr/local/lib/python3.10/dist-packages (from fastapi->gradio) (3.7.1)\n",
            "Requirement already satisfied: starlette<0.28.0,>=0.27.0 in /usr/local/lib/python3.10/dist-packages (from fastapi->gradio) (0.27.0)\n",
            "Requirement already satisfied: httpcore<0.19.0,>=0.18.0 in /usr/local/lib/python3.10/dist-packages (from httpx->gradio) (0.18.0)\n",
            "Requirement already satisfied: sniffio in /usr/local/lib/python3.10/dist-packages (from httpx->gradio) (1.3.0)\n",
            "Requirement already satisfied: exceptiongroup in /usr/local/lib/python3.10/dist-packages (from anyio<4.0.0,>=3.7.1->fastapi->gradio) (1.1.3)\n",
            "Requirement already satisfied: attrs>=22.2.0 in /usr/local/lib/python3.10/dist-packages (from jsonschema>=3.0->altair<6.0,>=4.2.0->gradio) (23.1.0)\n",
            "Requirement already satisfied: jsonschema-specifications>=2023.03.6 in /usr/local/lib/python3.10/dist-packages (from jsonschema>=3.0->altair<6.0,>=4.2.0->gradio) (2023.7.1)\n",
            "Requirement already satisfied: referencing>=0.28.4 in /usr/local/lib/python3.10/dist-packages (from jsonschema>=3.0->altair<6.0,>=4.2.0->gradio) (0.30.2)\n",
            "Requirement already satisfied: rpds-py>=0.7.1 in /usr/local/lib/python3.10/dist-packages (from jsonschema>=3.0->altair<6.0,>=4.2.0->gradio) (0.10.6)\n",
            "Requirement already satisfied: six>=1.5 in /usr/local/lib/python3.10/dist-packages (from python-dateutil>=2.7->matplotlib~=3.0->gradio) (1.16.0)\n"
          ]
        }
      ]
    },
    {
      "cell_type": "code",
      "source": [
        "import gradio"
      ],
      "metadata": {
        "id": "DzkU64sr0Y1_"
      },
      "execution_count": null,
      "outputs": []
    },
    {
      "cell_type": "code",
      "source": [
        "demo = gradio.Interface(fn=ner,\n",
        "                    inputs=[gradio.Textbox(label=\"Text to find entities\", lines=2)],\n",
        "                    outputs=[gradio.HighlightedText(label=\"Text with entities\")],\n",
        "                    title=\"NER with dslim/bert-base-NER\",\n",
        "                    description=\"Find entities using the `dslim/bert-base-NER` model under the hood!\",\n",
        "                    allow_flagging=\"never\",\n",
        "                    examples=[\"My name is Andrew, I'm building DeeplearningAI and I live in California\", \"My name is Poli, I live in Vienna and work at HuggingFace\"])\n",
        "\n",
        "demo.launch(share=True)"
      ],
      "metadata": {
        "colab": {
          "base_uri": "https://localhost:8080/",
          "height": 609
        },
        "id": "p08AkqOJ0r2K",
        "outputId": "52df6298-a8f0-4c67-e1ef-898138316bfc"
      },
      "execution_count": null,
      "outputs": [
        {
          "output_type": "stream",
          "name": "stdout",
          "text": [
            "Colab notebook detected. To show errors in colab notebook, set debug=True in launch()\n",
            "Running on public URL: https://48b6c23d4a95ffa8c4.gradio.live\n",
            "\n",
            "This share link expires in 72 hours. For free permanent hosting and GPU upgrades, run `gradio deploy` from Terminal to deploy to Spaces (https://huggingface.co/spaces)\n"
          ]
        },
        {
          "output_type": "display_data",
          "data": {
            "text/plain": [
              "<IPython.core.display.HTML object>"
            ],
            "text/html": [
              "<div><iframe src=\"https://48b6c23d4a95ffa8c4.gradio.live\" width=\"100%\" height=\"500\" allow=\"autoplay; camera; microphone; clipboard-read; clipboard-write;\" frameborder=\"0\" allowfullscreen></iframe></div>"
            ]
          },
          "metadata": {}
        },
        {
          "output_type": "execute_result",
          "data": {
            "text/plain": []
          },
          "metadata": {},
          "execution_count": 11
        }
      ]
    },
    {
      "cell_type": "code",
      "source": [
        "gradio.close_all()"
      ],
      "metadata": {
        "id": "c4Y8a5zv1X0V",
        "colab": {
          "base_uri": "https://localhost:8080/"
        },
        "outputId": "3f95f23a-ddc0-4d7b-a145-c6341881fd5e"
      },
      "execution_count": null,
      "outputs": [
        {
          "output_type": "stream",
          "name": "stdout",
          "text": [
            "Closing server running on port: 7860\n"
          ]
        }
      ]
    }
  ]
}